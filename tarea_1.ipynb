{
  "nbformat": 4,
  "nbformat_minor": 0,
  "metadata": {
    "colab": {
      "provenance": [],
      "authorship_tag": "ABX9TyNrFo2SiTQdgLzlS5Q7cz6y",
      "include_colab_link": true
    },
    "kernelspec": {
      "name": "python3",
      "display_name": "Python 3"
    },
    "language_info": {
      "name": "python"
    }
  },
  "cells": [
    {
      "cell_type": "markdown",
      "metadata": {
        "id": "view-in-github",
        "colab_type": "text"
      },
      "source": [
        "<a href=\"https://colab.research.google.com/github/SCaceres10/Programacion_aplicada_publico/blob/main/tarea_1.ipynb\" target=\"_parent\"><img src=\"https://colab.research.google.com/assets/colab-badge.svg\" alt=\"Open In Colab\"/></a>"
      ]
    },
    {
      "cell_type": "code",
      "source": [
        "#Johan Sebastian Caceres\n",
        "#20212005111\n",
        "\n",
        "texto = str(input(\"Texto que quiere rellenar:\"))\n",
        "#llenar de ceros\n",
        "x = int(input(\"Cuantos ceros quiere :\"))\n",
        "cantidadC  = \"0\"*(x-len(texto))\n",
        "Sinzfille = cantidadC+texto\n",
        "print(Sinzfille)\n",
        "\n",
        "print(\"Comparacion con el z fill\")\n",
        "temp = texto.zfill(x)\n",
        "print(temp == Sinzfille)\n",
        "\n"
      ],
      "metadata": {
        "colab": {
          "base_uri": "https://localhost:8080/"
        },
        "id": "8mhWGQohSss5",
        "outputId": "90122409-ebc7-4033-fa46-aeed1ddfcef9"
      },
      "execution_count": 7,
      "outputs": [
        {
          "output_type": "stream",
          "name": "stdout",
          "text": [
            "Texto que quiere rellenar:hola\n",
            "Cuantos ceros quiere :10\n",
            "000000hola\n",
            "Comparacion con el z fill\n",
            "True\n"
          ]
        }
      ]
    }
  ]
}